{
 "cells": [
  {
   "cell_type": "markdown",
   "id": "4356e57e",
   "metadata": {},
   "source": [
    "# Programming for Data Analytics 2022, Assignment 2\n",
    "\n",
    "Undertake an analysis/review of the dataset and present an overview and background.\n",
    "\n",
    "- Provide a literature review on classifiers which have been applied to the dataset and\n",
    "compare their performance\n",
    "- Present a statistical analysis of the dataset\n",
    "- Using a range of machine learning algorithms, train a set of classifiers on the dataset (using\n",
    "SKLearn etc.) and present classification performance results. Detail your rationale for the\n",
    "parameter selections you made while training the classifiers.\n",
    "- Compare, contrast and critique your results with reference to the literature\n",
    "- Discuss and investigate how the dataset could be extended – using data synthesis of new\n",
    "tumour datapoin"
   ]
  },
  {
   "cell_type": "code",
   "execution_count": null,
   "id": "4da851f6",
   "metadata": {},
   "outputs": [],
   "source": []
  }
 ],
 "metadata": {
  "kernelspec": {
   "display_name": "Python 3 (ipykernel)",
   "language": "python",
   "name": "python3"
  },
  "language_info": {
   "codemirror_mode": {
    "name": "ipython",
    "version": 3
   },
   "file_extension": ".py",
   "mimetype": "text/x-python",
   "name": "python",
   "nbconvert_exporter": "python",
   "pygments_lexer": "ipython3",
   "version": "3.9.12"
  }
 },
 "nbformat": 4,
 "nbformat_minor": 5
}
